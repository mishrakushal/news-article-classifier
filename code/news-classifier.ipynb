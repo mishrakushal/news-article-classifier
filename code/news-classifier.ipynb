{
 "cells": [
  {
   "cell_type": "markdown",
   "id": "1b34ec76",
   "metadata": {},
   "source": [
    "## News Article Classification Model"
   ]
  },
  {
   "cell_type": "markdown",
   "id": "0e3a127e",
   "metadata": {},
   "source": [
    "### Importing the libraries"
   ]
  },
  {
   "cell_type": "code",
   "execution_count": 5,
   "id": "43d39f0f",
   "metadata": {},
   "outputs": [
    {
     "name": "stdout",
     "output_type": "stream",
     "text": [
      "['.ipynb_checkpoints', 'news-classifier.ipynb']\n"
     ]
    }
   ],
   "source": [
    "import numpy as np\n",
    "import pandas as pd\n",
    "import matplotlib.pyplot as plt\n",
    "import sklearn\n",
    "%matplotlib inline\n",
    "\n",
    "import os\n",
    "print(os.listdir('../code'))\n",
    "# print(os.listdir('../dataset'))"
   ]
  },
  {
   "cell_type": "code",
   "execution_count": 8,
   "id": "cb439397",
   "metadata": {},
   "outputs": [
    {
     "data": {
      "text/html": [
       "<div>\n",
       "<style scoped>\n",
       "    .dataframe tbody tr th:only-of-type {\n",
       "        vertical-align: middle;\n",
       "    }\n",
       "\n",
       "    .dataframe tbody tr th {\n",
       "        vertical-align: top;\n",
       "    }\n",
       "\n",
       "    .dataframe thead th {\n",
       "        text-align: right;\n",
       "    }\n",
       "</style>\n",
       "<table border=\"1\" class=\"dataframe\">\n",
       "  <thead>\n",
       "    <tr style=\"text-align: right;\">\n",
       "      <th></th>\n",
       "      <th>ArticleId</th>\n",
       "      <th>Text</th>\n",
       "      <th>Category</th>\n",
       "    </tr>\n",
       "  </thead>\n",
       "  <tbody>\n",
       "    <tr>\n",
       "      <th>0</th>\n",
       "      <td>1833</td>\n",
       "      <td>worldcom ex-boss launches defence lawyers defe...</td>\n",
       "      <td>business</td>\n",
       "    </tr>\n",
       "    <tr>\n",
       "      <th>1</th>\n",
       "      <td>154</td>\n",
       "      <td>german business confidence slides german busin...</td>\n",
       "      <td>business</td>\n",
       "    </tr>\n",
       "    <tr>\n",
       "      <th>2</th>\n",
       "      <td>1101</td>\n",
       "      <td>bbc poll indicates economic gloom citizens in ...</td>\n",
       "      <td>business</td>\n",
       "    </tr>\n",
       "    <tr>\n",
       "      <th>3</th>\n",
       "      <td>1976</td>\n",
       "      <td>lifestyle  governs mobile choice  faster  bett...</td>\n",
       "      <td>tech</td>\n",
       "    </tr>\n",
       "    <tr>\n",
       "      <th>4</th>\n",
       "      <td>917</td>\n",
       "      <td>enron bosses in $168m payout eighteen former e...</td>\n",
       "      <td>business</td>\n",
       "    </tr>\n",
       "  </tbody>\n",
       "</table>\n",
       "</div>"
      ],
      "text/plain": [
       "   ArticleId                                               Text  Category\n",
       "0       1833  worldcom ex-boss launches defence lawyers defe...  business\n",
       "1        154  german business confidence slides german busin...  business\n",
       "2       1101  bbc poll indicates economic gloom citizens in ...  business\n",
       "3       1976  lifestyle  governs mobile choice  faster  bett...      tech\n",
       "4        917  enron bosses in $168m payout eighteen former e...  business"
      ]
     },
     "execution_count": 8,
     "metadata": {},
     "output_type": "execute_result"
    }
   ],
   "source": [
    "TRAIN_PATH = os.path.join('../dataset/', 'BBC News Train.csv')\n",
    "\n",
    "df = pd.read_csv(TRAIN_PATH)\n",
    "df.head()"
   ]
  },
  {
   "cell_type": "code",
   "execution_count": 9,
   "id": "93fa42b6",
   "metadata": {},
   "outputs": [
    {
     "data": {
      "text/html": [
       "<div>\n",
       "<style scoped>\n",
       "    .dataframe tbody tr th:only-of-type {\n",
       "        vertical-align: middle;\n",
       "    }\n",
       "\n",
       "    .dataframe tbody tr th {\n",
       "        vertical-align: top;\n",
       "    }\n",
       "\n",
       "    .dataframe thead th {\n",
       "        text-align: right;\n",
       "    }\n",
       "</style>\n",
       "<table border=\"1\" class=\"dataframe\">\n",
       "  <thead>\n",
       "    <tr style=\"text-align: right;\">\n",
       "      <th></th>\n",
       "      <th>ArticleId</th>\n",
       "      <th>Text</th>\n",
       "      <th>Category</th>\n",
       "      <th>category_id</th>\n",
       "    </tr>\n",
       "  </thead>\n",
       "  <tbody>\n",
       "    <tr>\n",
       "      <th>0</th>\n",
       "      <td>1833</td>\n",
       "      <td>worldcom ex-boss launches defence lawyers defe...</td>\n",
       "      <td>business</td>\n",
       "      <td>0</td>\n",
       "    </tr>\n",
       "    <tr>\n",
       "      <th>1</th>\n",
       "      <td>154</td>\n",
       "      <td>german business confidence slides german busin...</td>\n",
       "      <td>business</td>\n",
       "      <td>0</td>\n",
       "    </tr>\n",
       "    <tr>\n",
       "      <th>2</th>\n",
       "      <td>1101</td>\n",
       "      <td>bbc poll indicates economic gloom citizens in ...</td>\n",
       "      <td>business</td>\n",
       "      <td>0</td>\n",
       "    </tr>\n",
       "    <tr>\n",
       "      <th>3</th>\n",
       "      <td>1976</td>\n",
       "      <td>lifestyle  governs mobile choice  faster  bett...</td>\n",
       "      <td>tech</td>\n",
       "      <td>1</td>\n",
       "    </tr>\n",
       "    <tr>\n",
       "      <th>4</th>\n",
       "      <td>917</td>\n",
       "      <td>enron bosses in $168m payout eighteen former e...</td>\n",
       "      <td>business</td>\n",
       "      <td>0</td>\n",
       "    </tr>\n",
       "    <tr>\n",
       "      <th>5</th>\n",
       "      <td>1582</td>\n",
       "      <td>howard  truanted to play snooker  conservative...</td>\n",
       "      <td>politics</td>\n",
       "      <td>2</td>\n",
       "    </tr>\n",
       "    <tr>\n",
       "      <th>6</th>\n",
       "      <td>651</td>\n",
       "      <td>wales silent on grand slam talk rhys williams ...</td>\n",
       "      <td>sport</td>\n",
       "      <td>3</td>\n",
       "    </tr>\n",
       "    <tr>\n",
       "      <th>7</th>\n",
       "      <td>1797</td>\n",
       "      <td>french honour for director parker british film...</td>\n",
       "      <td>entertainment</td>\n",
       "      <td>4</td>\n",
       "    </tr>\n",
       "    <tr>\n",
       "      <th>8</th>\n",
       "      <td>2034</td>\n",
       "      <td>car giant hit by mercedes slump a slump in pro...</td>\n",
       "      <td>business</td>\n",
       "      <td>0</td>\n",
       "    </tr>\n",
       "    <tr>\n",
       "      <th>9</th>\n",
       "      <td>1866</td>\n",
       "      <td>fockers fuel festive film chart comedy meet th...</td>\n",
       "      <td>entertainment</td>\n",
       "      <td>4</td>\n",
       "    </tr>\n",
       "    <tr>\n",
       "      <th>10</th>\n",
       "      <td>1683</td>\n",
       "      <td>blair rejects iraq advice calls tony blair has...</td>\n",
       "      <td>politics</td>\n",
       "      <td>2</td>\n",
       "    </tr>\n",
       "    <tr>\n",
       "      <th>11</th>\n",
       "      <td>1153</td>\n",
       "      <td>housewives lift channel 4 ratings the debut of...</td>\n",
       "      <td>entertainment</td>\n",
       "      <td>4</td>\n",
       "    </tr>\n",
       "    <tr>\n",
       "      <th>12</th>\n",
       "      <td>1028</td>\n",
       "      <td>uk coal plunges into deeper loss shares in uk ...</td>\n",
       "      <td>business</td>\n",
       "      <td>0</td>\n",
       "    </tr>\n",
       "    <tr>\n",
       "      <th>13</th>\n",
       "      <td>812</td>\n",
       "      <td>bp surges ahead on high oil price oil giant bp...</td>\n",
       "      <td>business</td>\n",
       "      <td>0</td>\n",
       "    </tr>\n",
       "    <tr>\n",
       "      <th>14</th>\n",
       "      <td>707</td>\n",
       "      <td>ireland 21-19 argentina an injury-time dropped...</td>\n",
       "      <td>sport</td>\n",
       "      <td>3</td>\n",
       "    </tr>\n",
       "    <tr>\n",
       "      <th>15</th>\n",
       "      <td>1588</td>\n",
       "      <td>wenger signs new deal arsenal manager arsene w...</td>\n",
       "      <td>sport</td>\n",
       "      <td>3</td>\n",
       "    </tr>\n",
       "    <tr>\n",
       "      <th>16</th>\n",
       "      <td>342</td>\n",
       "      <td>u2 s desire to be number one u2  who have won ...</td>\n",
       "      <td>entertainment</td>\n",
       "      <td>4</td>\n",
       "    </tr>\n",
       "    <tr>\n",
       "      <th>17</th>\n",
       "      <td>486</td>\n",
       "      <td>hantuchova in dubai last eight daniela hantuch...</td>\n",
       "      <td>sport</td>\n",
       "      <td>3</td>\n",
       "    </tr>\n",
       "    <tr>\n",
       "      <th>18</th>\n",
       "      <td>1344</td>\n",
       "      <td>melzer shocks agassi in san jose second seed a...</td>\n",
       "      <td>sport</td>\n",
       "      <td>3</td>\n",
       "    </tr>\n",
       "    <tr>\n",
       "      <th>19</th>\n",
       "      <td>1552</td>\n",
       "      <td>moving mobile improves golf swing a mobile pho...</td>\n",
       "      <td>tech</td>\n",
       "      <td>1</td>\n",
       "    </tr>\n",
       "  </tbody>\n",
       "</table>\n",
       "</div>"
      ],
      "text/plain": [
       "    ArticleId                                               Text  \\\n",
       "0        1833  worldcom ex-boss launches defence lawyers defe...   \n",
       "1         154  german business confidence slides german busin...   \n",
       "2        1101  bbc poll indicates economic gloom citizens in ...   \n",
       "3        1976  lifestyle  governs mobile choice  faster  bett...   \n",
       "4         917  enron bosses in $168m payout eighteen former e...   \n",
       "5        1582  howard  truanted to play snooker  conservative...   \n",
       "6         651  wales silent on grand slam talk rhys williams ...   \n",
       "7        1797  french honour for director parker british film...   \n",
       "8        2034  car giant hit by mercedes slump a slump in pro...   \n",
       "9        1866  fockers fuel festive film chart comedy meet th...   \n",
       "10       1683  blair rejects iraq advice calls tony blair has...   \n",
       "11       1153  housewives lift channel 4 ratings the debut of...   \n",
       "12       1028  uk coal plunges into deeper loss shares in uk ...   \n",
       "13        812  bp surges ahead on high oil price oil giant bp...   \n",
       "14        707  ireland 21-19 argentina an injury-time dropped...   \n",
       "15       1588  wenger signs new deal arsenal manager arsene w...   \n",
       "16        342  u2 s desire to be number one u2  who have won ...   \n",
       "17        486  hantuchova in dubai last eight daniela hantuch...   \n",
       "18       1344  melzer shocks agassi in san jose second seed a...   \n",
       "19       1552  moving mobile improves golf swing a mobile pho...   \n",
       "\n",
       "         Category  category_id  \n",
       "0        business            0  \n",
       "1        business            0  \n",
       "2        business            0  \n",
       "3            tech            1  \n",
       "4        business            0  \n",
       "5        politics            2  \n",
       "6           sport            3  \n",
       "7   entertainment            4  \n",
       "8        business            0  \n",
       "9   entertainment            4  \n",
       "10       politics            2  \n",
       "11  entertainment            4  \n",
       "12       business            0  \n",
       "13       business            0  \n",
       "14          sport            3  \n",
       "15          sport            3  \n",
       "16  entertainment            4  \n",
       "17          sport            3  \n",
       "18          sport            3  \n",
       "19           tech            1  "
      ]
     },
     "execution_count": 9,
     "metadata": {},
     "output_type": "execute_result"
    }
   ],
   "source": [
    "\"\"\"\n",
    "    pd.factorize() returns numeric representation of unique values\n",
    "    in array as param1 and the unique values themselves as param 2\n",
    "\"\"\"\n",
    "df['category_id'], _ = df['Category'].factorize()\n",
    "df['category_id'][0 : 10]\n",
    "df.head(20)"
   ]
  },
  {
   "cell_type": "code",
   "execution_count": 10,
   "id": "75e9a9a2",
   "metadata": {},
   "outputs": [
    {
     "data": {
      "text/html": [
       "<div>\n",
       "<style scoped>\n",
       "    .dataframe tbody tr th:only-of-type {\n",
       "        vertical-align: middle;\n",
       "    }\n",
       "\n",
       "    .dataframe tbody tr th {\n",
       "        vertical-align: top;\n",
       "    }\n",
       "\n",
       "    .dataframe thead th {\n",
       "        text-align: right;\n",
       "    }\n",
       "</style>\n",
       "<table border=\"1\" class=\"dataframe\">\n",
       "  <thead>\n",
       "    <tr style=\"text-align: right;\">\n",
       "      <th></th>\n",
       "      <th>Category</th>\n",
       "      <th>category_id</th>\n",
       "    </tr>\n",
       "  </thead>\n",
       "  <tbody>\n",
       "    <tr>\n",
       "      <th>0</th>\n",
       "      <td>business</td>\n",
       "      <td>0</td>\n",
       "    </tr>\n",
       "    <tr>\n",
       "      <th>3</th>\n",
       "      <td>tech</td>\n",
       "      <td>1</td>\n",
       "    </tr>\n",
       "    <tr>\n",
       "      <th>5</th>\n",
       "      <td>politics</td>\n",
       "      <td>2</td>\n",
       "    </tr>\n",
       "    <tr>\n",
       "      <th>6</th>\n",
       "      <td>sport</td>\n",
       "      <td>3</td>\n",
       "    </tr>\n",
       "    <tr>\n",
       "      <th>7</th>\n",
       "      <td>entertainment</td>\n",
       "      <td>4</td>\n",
       "    </tr>\n",
       "  </tbody>\n",
       "</table>\n",
       "</div>"
      ],
      "text/plain": [
       "        Category  category_id\n",
       "0       business            0\n",
       "3           tech            1\n",
       "5       politics            2\n",
       "6          sport            3\n",
       "7  entertainment            4"
      ]
     },
     "execution_count": 10,
     "metadata": {},
     "output_type": "execute_result"
    }
   ],
   "source": [
    "category_id_df = df[['Category', 'category_id']].drop_duplicates().sort_values('category_id')\n",
    "category_id_df"
   ]
  },
  {
   "cell_type": "code",
   "execution_count": 13,
   "id": "fd95242c",
   "metadata": {},
   "outputs": [
    {
     "data": {
      "text/plain": [
       "{0: 'business', 1: 'tech', 2: 'politics', 3: 'sport', 4: 'entertainment'}"
      ]
     },
     "execution_count": 13,
     "metadata": {},
     "output_type": "execute_result"
    }
   ],
   "source": [
    "category_to_id = dict (category_id_df.values)\n",
    "id_to_category = dict (category_id_df[['category_id', 'Category']].values)\n",
    "id_to_category"
   ]
  },
  {
   "cell_type": "code",
   "execution_count": 14,
   "id": "9c9eb0f7",
   "metadata": {},
   "outputs": [
    {
     "data": {
      "text/plain": [
       "{'business': 0, 'tech': 1, 'politics': 2, 'sport': 3, 'entertainment': 4}"
      ]
     },
     "execution_count": 14,
     "metadata": {},
     "output_type": "execute_result"
    }
   ],
   "source": [
    "category_to_id"
   ]
  },
  {
   "cell_type": "code",
   "execution_count": 15,
   "id": "da92e112",
   "metadata": {},
   "outputs": [
    {
     "data": {
      "text/plain": [
       "Category\n",
       "business         336\n",
       "entertainment    273\n",
       "politics         274\n",
       "sport            346\n",
       "tech             261\n",
       "Name: category_id, dtype: int64"
      ]
     },
     "execution_count": 15,
     "metadata": {},
     "output_type": "execute_result"
    }
   ],
   "source": [
    "df.groupby('Category').category_id.count()"
   ]
  },
  {
   "cell_type": "code",
   "execution_count": 16,
   "id": "921583d9",
   "metadata": {},
   "outputs": [
    {
     "data": {
      "text/plain": [
       "<AxesSubplot:xlabel='Category'>"
      ]
     },
     "execution_count": 16,
     "metadata": {},
     "output_type": "execute_result"
    },
    {
     "data": {
      "image/png": "[encoded data removed]",
      "text/plain": [
       "<Figure size 432x288 with 1 Axes>"
      ]
     },
     "metadata": {
      "needs_background": "light"
     },
     "output_type": "display_data"
    }
   ],
   "source": [
    "df.groupby('Category').category_id.count().plot.bar()"
   ]
  },
  {
   "cell_type": "code",
   "execution_count": 27,
   "id": "5dcba499",
   "metadata": {},
   "outputs": [],
   "source": [
    "from sklearn.feature_extraction.text import TfidfVectorizer\n",
    "\n",
    "\"\"\"\n",
    "    TF-IDF (term frequency-inverse document frequency)\n",
    "    is a text vectorizer. \n",
    "\"\"\"\n",
    "\n",
    "tfidf = TfidfVectorizer(sublinear_tf=True, min_df=5, norm='l2', encoding='latin-1', ngram_range=(1, 2), stop_words='english')\n",
    "\n",
    "features = tfidf.fit_transform(df.Text).toarray()\n",
    "\n",
    "labels = df.category_id"
   ]
  },
  {
   "cell_type": "code",
   "execution_count": 22,
   "id": "3b1d2b80",
   "metadata": {},
   "outputs": [
    {
     "data": {
      "text/plain": [
       "(1490, 9927)"
      ]
     },
     "execution_count": 22,
     "metadata": {},
     "output_type": "execute_result"
    }
   ],
   "source": [
    "features.shape"
   ]
  },
  {
   "cell_type": "code",
   "execution_count": 23,
   "id": "147b8e18",
   "metadata": {},
   "outputs": [
    {
     "data": {
      "text/plain": [
       "dict_items([('business', 0), ('tech', 1), ('politics', 2), ('sport', 3), ('entertainment', 4)])"
      ]
     },
     "execution_count": 23,
     "metadata": {},
     "output_type": "execute_result"
    }
   ],
   "source": [
    "category_to_id.items()"
   ]
  },
  {
   "cell_type": "code",
   "execution_count": 25,
   "id": "dcfb689a",
   "metadata": {},
   "outputs": [
    {
     "data": {
      "text/plain": [
       "[('business', 0),\n",
       " ('entertainment', 4),\n",
       " ('politics', 2),\n",
       " ('sport', 3),\n",
       " ('tech', 1)]"
      ]
     },
     "execution_count": 25,
     "metadata": {},
     "output_type": "execute_result"
    }
   ],
   "source": [
    "sorted_category_to_id_items = sorted(category_to_id.items())\n",
    "sorted_category_to_id_items"
   ]
  },
  {
   "cell_type": "code",
   "execution_count": 28,
   "id": "1503a37d",
   "metadata": {},
   "outputs": [
    {
     "data": {
      "text/plain": [
       "0       0\n",
       "1       0\n",
       "2       0\n",
       "3       1\n",
       "4       0\n",
       "       ..\n",
       "1485    4\n",
       "1486    4\n",
       "1487    0\n",
       "1488    1\n",
       "1489    1\n",
       "Name: category_id, Length: 1490, dtype: int64"
      ]
     },
     "execution_count": 28,
     "metadata": {},
     "output_type": "execute_result"
    }
   ],
   "source": [
    "labels"
   ]
  },
  {
   "cell_type": "code",
   "execution_count": 37,
   "id": "1264f787",
   "metadata": {},
   "outputs": [
    {
     "name": "stdout",
     "output_type": "stream",
     "text": [
      "# Business:\n",
      "\t. Most correlated unigrams:\n",
      "\t. ['growth', 'bank', 'shares']\n",
      "\n",
      "\t. Most correlated bigrams:\n",
      "\t. ['stock market', 'economic growth', 'analysts said']\n",
      "\n",
      "\n",
      "# Entertainment:\n",
      "\t. Most correlated unigrams:\n",
      "\t. ['singer', 'actor', 'film']\n",
      "\n",
      "\t. Most correlated bigrams:\n",
      "\t. ['won best', 'los angeles', 'box office']\n",
      "\n",
      "\n",
      "# Politics:\n",
      "\t. Most correlated unigrams:\n",
      "\t. ['blair', 'election', 'labour']\n",
      "\n",
      "\t. Most correlated bigrams:\n",
      "\t. ['prime minister', 'tony blair', 'mr blair']\n",
      "\n",
      "\n",
      "# Sport:\n",
      "\t. Most correlated unigrams:\n",
      "\t. ['match', 'coach', 'cup']\n",
      "\n",
      "\t. Most correlated bigrams:\n",
      "\t. ['grand slam', 'champions league', 'australian open']\n",
      "\n",
      "\n",
      "# Tech:\n",
      "\t. Most correlated unigrams:\n",
      "\t. ['technology', 'software', 'users']\n",
      "\n",
      "\t. Most correlated bigrams:\n",
      "\t. ['anti virus', 'mobile phones', 'mobile phone']\n",
      "\n",
      "\n"
     ]
    }
   ],
   "source": [
    "from sklearn.feature_selection import chi2\n",
    "\n",
    "# We'll look for the top N categories\n",
    "N = 3\n",
    "\n",
    "for Category, category_id in sorted_category_to_id_items:\n",
    "    features_chi2 = chi2(features, labels == category_id)\n",
    "    indices = np.argsort(features_chi2[0])\n",
    "    feature_names = np.array(tfidf.get_feature_names())[indices]\n",
    "    unigrams = [v for v in feature_names if len(v.split(' ')) == 1]\n",
    "    bigrams = [v for v in feature_names if len(v.split(' ')) == 2]\n",
    "    print(f\"# {Category.capitalize()}:\")\n",
    "    print(f\"\\t. Most correlated unigrams:\\n\\t. {unigrams[-N:]}\")\n",
    "    print(f\"\\n\\t. Most correlated bigrams:\\n\\t. {bigrams[-N:]}\")\n",
    "    print('\\n')"
   ]
  },
  {
   "cell_type": "code",
   "execution_count": 38,
   "id": "aa4f8468",
   "metadata": {},
   "outputs": [
    {
     "data": {
      "text/plain": [
       "(array([0.13345481, 0.01563765, 0.00108776, ..., 0.00812363, 0.15434356,\n",
       "        0.120306  ]),\n",
       " array([0.71487652, 0.9004835 , 0.97368962, ..., 0.92818297, 0.69441858,\n",
       "        0.72870284]))"
      ]
     },
     "execution_count": 38,
     "metadata": {},
     "output_type": "execute_result"
    }
   ],
   "source": [
    "features_chi2"
   ]
  },
  {
   "cell_type": "code",
   "execution_count": 43,
   "id": "48928e8c",
   "metadata": {},
   "outputs": [
    {
     "data": {
      "text/plain": [
       "(447, 2)"
      ]
     },
     "execution_count": 43,
     "metadata": {},
     "output_type": "execute_result"
    }
   ],
   "source": [
    "from sklearn.manifold import TSNE\n",
    "\n",
    "SAMPLE_SIZE = int(len(features) * 0.3)\n",
    "np.random.seed(0)\n",
    "indices = np.random.choice(range(len(features)), size=SAMPLE_SIZE, replace = False)\n",
    "projected_features = TSNE(n_components=2, random_state=0).fit_transform(features[indices])\n",
    "\n",
    "projected_features.shape"
   ]
  },
  {
   "cell_type": "code",
   "execution_count": 44,
   "id": "1a4a201d",
   "metadata": {},
   "outputs": [
    {
     "data": {
      "text/plain": [
       "array([[  2.7825692 ,  15.441475  ],\n",
       "       [ -7.058563  ,  24.184692  ],\n",
       "       [  1.2346098 ,  30.813969  ],\n",
       "       [  9.460215  ,  25.276316  ],\n",
       "       [ 12.25645   , -19.00246   ],\n",
       "       [  6.5474377 ,  21.924099  ],\n",
       "       [-14.644814  ,  17.591993  ],\n",
       "       [  8.358559  ,  21.490097  ],\n",
       "       [ 15.427329  ,  25.961151  ],\n",
       "       [ -2.569004  ,  26.837566  ],\n",
       "       [-11.073658  ,  23.655098  ],\n",
       "       [  1.5741967 ,  25.727413  ],\n",
       "       [ 10.370158  ,  11.785584  ],\n",
       "       [ -2.226906  ,  22.24362   ],\n",
       "       [  9.479474  ,  27.850174  ],\n",
       "       [  2.7283478 ,  24.337986  ],\n",
       "       [ -6.00327   ,  23.208319  ],\n",
       "       [  7.298235  ,  23.776398  ],\n",
       "       [  0.46313453,  19.073269  ],\n",
       "       [-11.076589  ,  16.818588  ],\n",
       "       [ 18.201622  ,  20.108046  ],\n",
       "       [ -4.7741823 ,  16.597239  ],\n",
       "       [  1.3453362 ,  30.60072   ],\n",
       "       [ -5.342315  ,  21.719809  ],\n",
       "       [  5.2986484 ,  23.935171  ],\n",
       "       [ -7.5837154 ,  19.794918  ],\n",
       "       [ -3.3005261 ,  18.652798  ],\n",
       "       [ -8.138252  ,  17.999775  ],\n",
       "       [ -6.694909  ,  23.599384  ],\n",
       "       [ -8.4654    ,  17.966173  ],\n",
       "       [  0.08979568,  21.631472  ],\n",
       "       [ -4.1832595 ,  14.908944  ],\n",
       "       [  3.567996  ,  21.378923  ],\n",
       "       [  6.8526196 ,  12.27451   ],\n",
       "       [  2.4734054 ,  25.903807  ],\n",
       "       [  9.46942   ,  22.080427  ],\n",
       "       [  1.4760232 ,  13.302091  ],\n",
       "       [  3.0483694 ,  32.35496   ],\n",
       "       [  4.6940885 ,  19.038403  ],\n",
       "       [  8.986215  ,  26.69173   ],\n",
       "       [  5.0501328 ,  31.98284   ],\n",
       "       [ -8.224536  ,  22.005896  ],\n",
       "       [  6.881155  ,  22.559307  ],\n",
       "       [  5.404073  ,  30.957184  ],\n",
       "       [-10.428693  ,  15.259217  ],\n",
       "       [ -2.0387201 ,  21.113283  ],\n",
       "       [ -4.7019367 ,  27.625778  ],\n",
       "       [  2.4509554 ,  21.445196  ],\n",
       "       [  6.8295007 ,  12.228307  ],\n",
       "       [ 10.37128   ,  28.580877  ],\n",
       "       [  2.4328144 ,  29.38271   ],\n",
       "       [ -1.6258602 ,  17.361103  ],\n",
       "       [ -5.0207696 ,  19.28083   ],\n",
       "       [ 27.600697  ,  18.729153  ],\n",
       "       [ -5.3499756 ,  28.405903  ],\n",
       "       [ -1.3398864 ,  27.419853  ],\n",
       "       [  6.0588307 ,  18.817608  ],\n",
       "       [ -4.0539885 ,  14.953641  ],\n",
       "       [ 10.808077  ,  27.972403  ],\n",
       "       [  5.5511312 ,   7.733314  ],\n",
       "       [ -5.7189803 ,  28.86194   ],\n",
       "       [-10.782589  ,  17.39845   ],\n",
       "       [ 10.078259  ,   3.9477255 ],\n",
       "       [  1.3386351 ,  32.041916  ],\n",
       "       [ 11.16249   ,  25.140493  ],\n",
       "       [ -0.7871009 ,  14.165137  ],\n",
       "       [  4.6504035 ,  30.577562  ],\n",
       "       [  2.6278024 ,  15.548087  ],\n",
       "       [  8.947891  ,  18.700764  ],\n",
       "       [ -8.271876  ,  13.683239  ],\n",
       "       [-12.356019  ,  18.048721  ],\n",
       "       [ -9.801414  ,  20.472004  ],\n",
       "       [ -0.54363906,  23.129332  ],\n",
       "       [ -7.8404155 ,  17.170893  ],\n",
       "       [ -1.965186  ,  12.821286  ],\n",
       "       [ -2.6962805 ,  20.452433  ],\n",
       "       [  5.7554145 ,  21.121101  ],\n",
       "       [ -1.1817703 ,  23.197252  ],\n",
       "       [ -1.3048811 ,  17.079155  ],\n",
       "       [  1.2543182 ,  16.154446  ],\n",
       "       [  9.848262  ,  14.427691  ],\n",
       "       [  4.694161  ,  26.914488  ],\n",
       "       [  8.313493  ,  20.398787  ],\n",
       "       [  6.169691  ,  17.504019  ],\n",
       "       [  3.8781898 ,  30.68192   ],\n",
       "       [  0.4376151 ,  28.462643  ],\n",
       "       [ 13.112843  ,  23.861748  ],\n",
       "       [ -4.2969985 ,  24.365213  ],\n",
       "       [ -0.15686698,  14.580228  ],\n",
       "       [ -0.82694405,  27.800167  ],\n",
       "       [ 15.172797  ,  25.780329  ],\n",
       "       [ -4.5843706 ,  18.986217  ],\n",
       "       [ -2.2495105 ,  29.513245  ],\n",
       "       [  0.46073636,  18.961555  ],\n",
       "       [  9.097422  ,  25.963942  ],\n",
       "       [-12.446956  ,  19.23375   ],\n",
       "       [-12.297689  ,  15.818484  ],\n",
       "       [  3.3464005 ,  26.531956  ],\n",
       "       [-14.572361  ,  17.632214  ],\n",
       "       [ 14.042784  ,  -2.0898561 ],\n",
       "       [ -8.54075   ,  13.790082  ],\n",
       "       [ 10.28125   ,  20.439867  ],\n",
       "       [ 11.270242  ,  21.444056  ]], dtype=float32)"
      ]
     },
     "execution_count": 44,
     "metadata": {},
     "output_type": "execute_result"
    }
   ],
   "source": [
    "cat_id = 0\n",
    "projected_features[(labels[indices] == cat_id).values]"
   ]
  },
  {
   "cell_type": "code",
   "execution_count": 46,
   "id": "767370d8",
   "metadata": {},
   "outputs": [
    {
     "data": {
      "image/png": "[encoded data removed]",
      "text/plain": [
       "<Figure size 432x288 with 1 Axes>"
      ]
     },
     "metadata": {
      "needs_background": "light"
     },
     "output_type": "display_data"
    }
   ],
   "source": [
    "colors = ['pink', 'green', 'midnightblue', 'orange', 'darkgrey']\n",
    "\n",
    "for category, category_id in sorted_category_to_id_items:\n",
    "    points = projected_features[(labels[indices] == category_id).values]\n",
    "    plt.scatter(points[:, 0], points[:, 1], s=30, c=colors[category_id], label=category)\n",
    "    plt.title(\"TF-IDF Feature Vector for each article\", fontdict=dict(fontsize=15))\n",
    "    plt.legend()"
   ]
  },
  {
   "cell_type": "code",
   "execution_count": null,
   "id": "ffacdd4d",
   "metadata": {},
   "outputs": [],
   "source": []
  }
 ],
 "metadata": {
  "kernelspec": {
   "display_name": "Python 3",
   "language": "python",
   "name": "python3"
  },
  "language_info": {
   "codemirror_mode": {
    "name": "ipython",
    "version": 3
   },
   "file_extension": ".py",
   "mimetype": "text/x-python",
   "name": "python",
   "nbconvert_exporter": "python",
   "pygments_lexer": "ipython3",
   "version": "3.8.8"
  }
 },
 "nbformat": 4,
 "nbformat_minor": 5
}
